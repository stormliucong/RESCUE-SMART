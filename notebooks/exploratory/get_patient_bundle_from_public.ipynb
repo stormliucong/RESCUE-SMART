{
 "cells": [
  {
   "cell_type": "code",
   "execution_count": null,
   "metadata": {},
   "outputs": [],
   "source": []
  },
  {
   "cell_type": "markdown",
   "metadata": {},
   "source": [
    "#### This notebook is intended to explore how to get patient bundle from sandboxes from all sorts of publically available servers"
   ]
  },
  {
   "cell_type": "code",
   "execution_count": 78,
   "metadata": {},
   "outputs": [],
   "source": [
    "from fhirclient import client\n",
    "from fhirclient.models import bundle, patient, condition, parameters\n"
   ]
  },
  {
   "cell_type": "code",
   "execution_count": 41,
   "metadata": {},
   "outputs": [],
   "source": [
    "# Define base API\n",
    "NLM_API_BASE = \"https://lforms-fhir.nlm.nih.gov/baseR4\""
   ]
  },
  {
   "cell_type": "code",
   "execution_count": 42,
   "metadata": {},
   "outputs": [
    {
     "name": "stdout",
     "output_type": "stream",
     "text": [
      "smart.authorize_url = None\n",
      "smart.ready = True\n"
     ]
    }
   ],
   "source": [
    "# create an instance of the FHIR client\n",
    "settings = {\n",
    "    'app_id': 'my_web_app',\n",
    "    'api_base': NLM_API_BASE\n",
    "}\n",
    "smart = client.FHIRClient(settings=settings)\n",
    "print(f'smart.authorize_url = {smart.authorize_url}')\n",
    "print(f'smart.ready = {smart.ready}')\n"
   ]
  },
  {
   "cell_type": "code",
   "execution_count": 51,
   "metadata": {},
   "outputs": [
    {
     "name": "stdout",
     "output_type": "stream",
     "text": [
      "{'id': 'pat-106', 'meta': {'lastUpdated': '2021-03-02T13:37:31.000-05:00', 'source': '#5Xcz9XcsjCn0FRLU', 'tag': [{'code': 'ri-10k', 'system': 'urn:lf:fhir-tags'}], 'versionId': '1'}, 'text': {'div': '<div xmlns=\"http://www.w3.org/1999/xhtml\"><div class=\"hapiHeaderText\">JIAN <b>MCINTOSH </b></div><table class=\"hapiPropertyTable\"><tbody><tr><td>Address</td><td><span>83637 Fake AIRPORT BLVD </span><br/><span>CUMBERLAND </span><span>MD </span><span>US </span></td></tr><tr><td>Date of birth</td><td><span>01 January 2073</span></td></tr></tbody></table></div>', 'status': 'generated'}, 'active': False, 'address': [{'city': 'CUMBERLAND', 'country': 'US', 'line': ['83637 Fake AIRPORT BLVD'], 'postalCode': '21502', 'state': 'MD', 'text': '83637 Fake AIRPORT BLVD, CUMBERLAND, MD 21502', 'type': 'both', 'use': 'home'}], 'birthDate': '2073', 'deceasedDateTime': '2128', 'gender': 'male', 'name': [{'family': 'MCINTOSH', 'given': ['JIAN'], 'use': 'official'}], 'resourceType': 'Patient'}\n",
      "{'id': 'pat-232', 'meta': {'lastUpdated': '2021-03-02T13:37:32.000-05:00', 'source': '#5Xcz9XcsjCn0FRLU', 'tag': [{'code': 'ri-10k', 'system': 'urn:lf:fhir-tags'}], 'versionId': '1'}, 'text': {'div': '<div xmlns=\"http://www.w3.org/1999/xhtml\"><div class=\"hapiHeaderText\">WANDA <b>BAER </b></div><table class=\"hapiPropertyTable\"><tbody><tr><td>Address</td><td><span>59928 Fake W 21ST ST </span><br/><span>MEMPHIS </span><span>TN </span><span>US </span></td></tr><tr><td>Date of birth</td><td><span>01 January 2048</span></td></tr></tbody></table></div>', 'status': 'generated'}, 'active': False, 'address': [{'city': 'MEMPHIS', 'country': 'US', 'line': ['59928 Fake W 21ST ST'], 'postalCode': '38105', 'state': 'TN', 'text': '59928 Fake W 21ST ST, MEMPHIS, TN 38105', 'type': 'both', 'use': 'home'}], 'birthDate': '2048', 'deceasedDateTime': '2130', 'gender': 'female', 'name': [{'family': 'BAER', 'given': ['WANDA'], 'use': 'official'}], 'resourceType': 'Patient'}\n",
      "{'id': 'pat-269', 'meta': {'lastUpdated': '2021-03-02T13:37:32.000-05:00', 'source': '#5Xcz9XcsjCn0FRLU', 'tag': [{'code': 'ri-10k', 'system': 'urn:lf:fhir-tags'}], 'versionId': '1'}, 'text': {'div': '<div xmlns=\"http://www.w3.org/1999/xhtml\"><div class=\"hapiHeaderText\">OMAR Y <b>WILLIAMS </b></div><table class=\"hapiPropertyTable\"><tbody><tr><td>Address</td><td><span>41545 Fake CENTRAL AVE </span><br/><span>HUDSON </span><span>FL </span><span>US </span></td></tr><tr><td>Date of birth</td><td><span>01 January 2048</span></td></tr></tbody></table></div>', 'status': 'generated'}, 'active': False, 'address': [{'city': 'HUDSON', 'country': 'US', 'line': ['41545 Fake CENTRAL AVE'], 'postalCode': '34667', 'state': 'FL', 'text': '41545 Fake CENTRAL AVE, HUDSON, FL 34667', 'type': 'both', 'use': 'home'}], 'birthDate': '2048', 'deceasedDateTime': '2126', 'gender': 'male', 'name': [{'family': 'WILLIAMS', 'given': ['OMAR', 'Y'], 'use': 'official'}], 'resourceType': 'Patient'}\n",
      "{'id': 'pat-291', 'meta': {'lastUpdated': '2021-03-02T13:37:32.000-05:00', 'source': '#5Xcz9XcsjCn0FRLU', 'tag': [{'code': 'ri-10k', 'system': 'urn:lf:fhir-tags'}], 'versionId': '1'}, 'text': {'div': '<div xmlns=\"http://www.w3.org/1999/xhtml\"><div class=\"hapiHeaderText\">CAMILO <b>FINNEY </b></div><table class=\"hapiPropertyTable\"><tbody><tr><td>Address</td><td><span>29304 Fake W HIGHWAY C </span><br/><span>PENSACOLA </span><span>FL </span><span>US </span></td></tr><tr><td>Date of birth</td><td><span>01 January 2041</span></td></tr></tbody></table></div>', 'status': 'generated'}, 'active': False, 'address': [{'city': 'PENSACOLA', 'country': 'US', 'line': ['29304 Fake W HIGHWAY C'], 'postalCode': '32503', 'state': 'FL', 'text': '29304 Fake W HIGHWAY C, PENSACOLA, FL 32503', 'type': 'both', 'use': 'home'}], 'birthDate': '2041', 'deceasedDateTime': '2126', 'gender': 'male', 'name': [{'family': 'FINNEY', 'given': ['CAMILO'], 'use': 'official'}], 'resourceType': 'Patient'}\n",
      "{'id': 'pat-467', 'meta': {'lastUpdated': '2021-03-02T13:37:32.000-05:00', 'source': '#5Xcz9XcsjCn0FRLU', 'tag': [{'code': 'ri-10k', 'system': 'urn:lf:fhir-tags'}], 'versionId': '1'}, 'text': {'div': '<div xmlns=\"http://www.w3.org/1999/xhtml\"><div class=\"hapiHeaderText\">JAYNE <b>SANDHU </b></div><table class=\"hapiPropertyTable\"><tbody><tr><td>Address</td><td><span>28572 Fake GRAND CENTRAL MALL </span><br/><span>DOVER </span><span>OH </span><span>US </span></td></tr><tr><td>Date of birth</td><td><span>01 January 2051</span></td></tr></tbody></table></div>', 'status': 'generated'}, 'active': False, 'address': [{'city': 'DOVER', 'country': 'US', 'line': ['28572 Fake GRAND CENTRAL MALL'], 'postalCode': '44622', 'state': 'OH', 'text': '28572 Fake GRAND CENTRAL MALL, DOVER, OH 44622', 'type': 'both', 'use': 'home'}], 'birthDate': '2051', 'deceasedDateTime': '2133', 'gender': 'female', 'name': [{'family': 'SANDHU', 'given': ['JAYNE'], 'use': 'official'}], 'resourceType': 'Patient'}\n"
     ]
    }
   ],
   "source": [
    "# find all patients\n",
    "search = patient.Patient.where(struct={})\n",
    "patients = search.perform_resources(smart.server)\n",
    "for p in patients[0:5]:\n",
    "    print(p.as_json())\n",
    "p_id_lists = [p.id for p in patients]"
   ]
  },
  {
   "cell_type": "code",
   "execution_count": 52,
   "metadata": {},
   "outputs": [
    {
     "name": "stdout",
     "output_type": "stream",
     "text": [
      "{'id': 'pat-106', 'meta': {'lastUpdated': '2021-03-02T13:37:31.000-05:00', 'source': '#5Xcz9XcsjCn0FRLU', 'tag': [{'code': 'ri-10k', 'system': 'urn:lf:fhir-tags'}], 'versionId': '1'}, 'text': {'div': '<div xmlns=\"http://www.w3.org/1999/xhtml\"><div class=\"hapiHeaderText\">JIAN <b>MCINTOSH </b></div><table class=\"hapiPropertyTable\"><tbody><tr><td>Address</td><td><span>83637 Fake AIRPORT BLVD </span><br/><span>CUMBERLAND </span><span>MD </span><span>US </span></td></tr><tr><td>Date of birth</td><td><span>01 January 2073</span></td></tr></tbody></table></div>', 'status': 'generated'}, 'active': False, 'address': [{'city': 'CUMBERLAND', 'country': 'US', 'line': ['83637 Fake AIRPORT BLVD'], 'postalCode': '21502', 'state': 'MD', 'text': '83637 Fake AIRPORT BLVD, CUMBERLAND, MD 21502', 'type': 'both', 'use': 'home'}], 'birthDate': '2073', 'deceasedDateTime': '2128', 'gender': 'male', 'name': [{'family': 'MCINTOSH', 'given': ['JIAN'], 'use': 'official'}], 'resourceType': 'Patient'}\n"
     ]
    }
   ],
   "source": [
    "# search one patient using read\n",
    "patient_id = p_id_lists[0]\n",
    "p = patient.Patient.read(patient_id, smart.server)\n",
    "# Display patient information\n",
    "print(p.as_json())"
   ]
  },
  {
   "cell_type": "code",
   "execution_count": 53,
   "metadata": {},
   "outputs": [
    {
     "name": "stdout",
     "output_type": "stream",
     "text": [
      "{'id': 'pat-106', 'meta': {'lastUpdated': '2021-03-02T13:37:31.000-05:00', 'source': '#5Xcz9XcsjCn0FRLU', 'tag': [{'code': 'ri-10k', 'system': 'urn:lf:fhir-tags'}], 'versionId': '1'}, 'text': {'div': '<div xmlns=\"http://www.w3.org/1999/xhtml\"><div class=\"hapiHeaderText\">JIAN <b>MCINTOSH </b></div><table class=\"hapiPropertyTable\"><tbody><tr><td>Address</td><td><span>83637 Fake AIRPORT BLVD </span><br/><span>CUMBERLAND </span><span>MD </span><span>US </span></td></tr><tr><td>Date of birth</td><td><span>01 January 2073</span></td></tr></tbody></table></div>', 'status': 'generated'}, 'active': False, 'address': [{'city': 'CUMBERLAND', 'country': 'US', 'line': ['83637 Fake AIRPORT BLVD'], 'postalCode': '21502', 'state': 'MD', 'text': '83637 Fake AIRPORT BLVD, CUMBERLAND, MD 21502', 'type': 'both', 'use': 'home'}], 'birthDate': '2073', 'deceasedDateTime': '2128', 'gender': 'male', 'name': [{'family': 'MCINTOSH', 'given': ['JIAN'], 'use': 'official'}], 'resourceType': 'Patient'}\n"
     ]
    }
   ],
   "source": [
    "# return a patient bundle using search\n",
    "# bundle is a list\n",
    "patient_id = p_id_lists[0]\n",
    "search = patient.Patient.where(struct={'_id': patient_id})\n",
    "p_bundle = search.perform_resources(smart.server)\n",
    "print(p_bundle[0].as_json())"
   ]
  },
  {
   "cell_type": "code",
   "execution_count": 79,
   "metadata": {},
   "outputs": [
    {
     "name": "stdout",
     "output_type": "stream",
     "text": [
      "{'entry': [{'resource': {'id': 'pat-106', 'meta': {'lastUpdated': '2021-03-02T13:37:31.000-05:00', 'source': '#5Xcz9XcsjCn0FRLU', 'tag': [{'code': 'ri-10k', 'system': 'urn:lf:fhir-tags'}], 'versionId': '1'}, 'text': {'div': '<div xmlns=\"http://www.w3.org/1999/xhtml\"><div class=\"hapiHeaderText\">JIAN <b>MCINTOSH </b></div><table class=\"hapiPropertyTable\"><tbody><tr><td>Address</td><td><span>83637 Fake AIRPORT BLVD </span><br/><span>CUMBERLAND </span><span>MD </span><span>US </span></td></tr><tr><td>Date of birth</td><td><span>01 January 2073</span></td></tr></tbody></table></div>', 'status': 'generated'}, 'active': False, 'address': [{'city': 'CUMBERLAND', 'country': 'US', 'line': ['83637 Fake AIRPORT BLVD'], 'postalCode': '21502', 'state': 'MD', 'text': '83637 Fake AIRPORT BLVD, CUMBERLAND, MD 21502', 'type': 'both', 'use': 'home'}], 'birthDate': '2073', 'deceasedDateTime': '2128', 'gender': 'male', 'name': [{'family': 'MCINTOSH', 'given': ['JIAN'], 'use': 'official'}], 'resourceType': 'Patient'}}, {'resource': {'id': 'pat-232', 'meta': {'lastUpdated': '2021-03-02T13:37:32.000-05:00', 'source': '#5Xcz9XcsjCn0FRLU', 'tag': [{'code': 'ri-10k', 'system': 'urn:lf:fhir-tags'}], 'versionId': '1'}, 'text': {'div': '<div xmlns=\"http://www.w3.org/1999/xhtml\"><div class=\"hapiHeaderText\">WANDA <b>BAER </b></div><table class=\"hapiPropertyTable\"><tbody><tr><td>Address</td><td><span>59928 Fake W 21ST ST </span><br/><span>MEMPHIS </span><span>TN </span><span>US </span></td></tr><tr><td>Date of birth</td><td><span>01 January 2048</span></td></tr></tbody></table></div>', 'status': 'generated'}, 'active': False, 'address': [{'city': 'MEMPHIS', 'country': 'US', 'line': ['59928 Fake W 21ST ST'], 'postalCode': '38105', 'state': 'TN', 'text': '59928 Fake W 21ST ST, MEMPHIS, TN 38105', 'type': 'both', 'use': 'home'}], 'birthDate': '2048', 'deceasedDateTime': '2130', 'gender': 'female', 'name': [{'family': 'BAER', 'given': ['WANDA'], 'use': 'official'}], 'resourceType': 'Patient'}}], 'type': 'Bundle', 'resourceType': 'Bundle'}\n"
     ]
    }
   ],
   "source": [
    "# return a patient bundle using search with two patient ids\n",
    "bundle_obj = bundle.Bundle()\n",
    "bundle_obj.entry = []\n",
    "for patient_id in p_id_lists[0:2]:\n",
    "    search = patient.Patient.where(struct={'_id': patient_id})\n",
    "    patients = search.perform_resources(smart.server)\n",
    "    for patient_resource in patients:\n",
    "        entry = bundle.BundleEntry()\n",
    "        entry.resource = patient_resource\n",
    "        bundle_obj.entry.append(entry)\n",
    "# Set the type of the Bundle to 'collection'\n",
    "bundle_obj.type = 'Bundle'\n",
    "# Print the Bundle as JSON\n",
    "print(bundle_obj.as_json())"
   ]
  },
  {
   "cell_type": "code",
   "execution_count": 82,
   "metadata": {},
   "outputs": [
    {
     "name": "stdout",
     "output_type": "stream",
     "text": [
      "{'id': '2c1e0d97-17a8-4ca0-9ab9-e22a6641a98a', 'meta': {'lastUpdated': '2024-04-17T14:23:36.000-04:00'}, 'entry': [{'fullUrl': 'https://lforms-fhir.nlm.nih.gov/baseR4/Patient/pat-106', 'resource': {'id': 'pat-106', 'meta': {'lastUpdated': '2021-03-02T13:37:31.000-05:00', 'source': '#5Xcz9XcsjCn0FRLU', 'tag': [{'code': 'ri-10k', 'system': 'urn:lf:fhir-tags'}], 'versionId': '1'}, 'text': {'div': '<div xmlns=\"http://www.w3.org/1999/xhtml\"><div class=\"hapiHeaderText\">JIAN <b>MCINTOSH </b></div><table class=\"hapiPropertyTable\"><tbody><tr><td>Address</td><td><span>83637 Fake AIRPORT BLVD </span><br/><span>CUMBERLAND </span><span>MD </span><span>US </span></td></tr><tr><td>Date of birth</td><td><span>01 January 2073</span></td></tr></tbody></table></div>', 'status': 'generated'}, 'active': False, 'address': [{'city': 'CUMBERLAND', 'country': 'US', 'line': ['83637 Fake AIRPORT BLVD'], 'postalCode': '21502', 'state': 'MD', 'text': '83637 Fake AIRPORT BLVD, CUMBERLAND, MD 21502', 'type': 'both', 'use': 'home'}], 'birthDate': '2073', 'deceasedDateTime': '2128', 'gender': 'male', 'name': [{'family': 'MCINTOSH', 'given': ['JIAN'], 'use': 'official'}], 'resourceType': 'Patient'}, 'search': {'mode': 'match'}}, {'fullUrl': 'https://lforms-fhir.nlm.nih.gov/baseR4/Patient/pat-232', 'resource': {'id': 'pat-232', 'meta': {'lastUpdated': '2021-03-02T13:37:32.000-05:00', 'source': '#5Xcz9XcsjCn0FRLU', 'tag': [{'code': 'ri-10k', 'system': 'urn:lf:fhir-tags'}], 'versionId': '1'}, 'text': {'div': '<div xmlns=\"http://www.w3.org/1999/xhtml\"><div class=\"hapiHeaderText\">WANDA <b>BAER </b></div><table class=\"hapiPropertyTable\"><tbody><tr><td>Address</td><td><span>59928 Fake W 21ST ST </span><br/><span>MEMPHIS </span><span>TN </span><span>US </span></td></tr><tr><td>Date of birth</td><td><span>01 January 2048</span></td></tr></tbody></table></div>', 'status': 'generated'}, 'active': False, 'address': [{'city': 'MEMPHIS', 'country': 'US', 'line': ['59928 Fake W 21ST ST'], 'postalCode': '38105', 'state': 'TN', 'text': '59928 Fake W 21ST ST, MEMPHIS, TN 38105', 'type': 'both', 'use': 'home'}], 'birthDate': '2048', 'deceasedDateTime': '2130', 'gender': 'female', 'name': [{'family': 'BAER', 'given': ['WANDA'], 'use': 'official'}], 'resourceType': 'Patient'}, 'search': {'mode': 'match'}}], 'link': [{'relation': 'self', 'url': 'https://lforms-fhir.nlm.nih.gov/baseR4/Patient?_id=pat-106%2Cpat-232'}], 'total': 2, 'type': 'searchset', 'resourceType': 'Bundle'}\n"
     ]
    }
   ],
   "source": [
    "# a more concise way to return a patient bundle using search with two patient ids\n",
    "search = patient.Patient.where(struct={'_id': ','.join(p_id_lists[0:2])})\n",
    "# Perform the search to get the bundle\n",
    "p_bundle = search.perform(smart.server)\n",
    "# Print the bundle\n",
    "print(p_bundle.as_json())"
   ]
  },
  {
   "cell_type": "code",
   "execution_count": 72,
   "metadata": {},
   "outputs": [
    {
     "ename": "AttributeError",
     "evalue": "'Parameters' object has no attribute 'perform'",
     "output_type": "error",
     "traceback": [
      "\u001b[0;31m---------------------------------------------------------------------------\u001b[0m",
      "\u001b[0;31mAttributeError\u001b[0m                            Traceback (most recent call last)",
      "Cell \u001b[0;32mIn[72], line 7\u001b[0m\n\u001b[1;32m      5\u001b[0m export_request\u001b[38;5;241m.\u001b[39mparameter\u001b[38;5;241m.\u001b[39mappend(parameters\u001b[38;5;241m.\u001b[39mParametersParameter(\u001b[38;5;28mdict\u001b[39m(name\u001b[38;5;241m=\u001b[39m\u001b[38;5;124m'\u001b[39m\u001b[38;5;124mpatient\u001b[39m\u001b[38;5;124m'\u001b[39m, valueString\u001b[38;5;241m=\u001b[39m\u001b[38;5;124m'\u001b[39m\u001b[38;5;124m,\u001b[39m\u001b[38;5;124m'\u001b[39m\u001b[38;5;241m.\u001b[39mjoin(p_id_lists[\u001b[38;5;241m0\u001b[39m:\u001b[38;5;241m2\u001b[39m]))))\n\u001b[1;32m      6\u001b[0m \u001b[38;5;66;03m# Send the export request\u001b[39;00m\n\u001b[0;32m----> 7\u001b[0m response \u001b[38;5;241m=\u001b[39m \u001b[43mexport_request\u001b[49m\u001b[38;5;241;43m.\u001b[39;49m\u001b[43mperform\u001b[49m(smart\u001b[38;5;241m.\u001b[39mserver, \u001b[38;5;124m'\u001b[39m\u001b[38;5;124m_export\u001b[39m\u001b[38;5;124m'\u001b[39m)\n\u001b[1;32m      8\u001b[0m \u001b[38;5;66;03m# Check if the request was successful\u001b[39;00m\n\u001b[1;32m      9\u001b[0m \u001b[38;5;28;01mif\u001b[39;00m response\u001b[38;5;241m.\u001b[39mstatus_code \u001b[38;5;241m==\u001b[39m \u001b[38;5;241m200\u001b[39m:\n\u001b[1;32m     10\u001b[0m     \u001b[38;5;66;03m# Process the response\u001b[39;00m\n",
      "\u001b[0;31mAttributeError\u001b[0m: 'Parameters' object has no attribute 'perform'"
     ]
    }
   ],
   "source": [
    "# TO BE TESTED: use bulk fhir to achieve the similar result\n",
    "export_request = parameters.Parameters()\n",
    "export_request.parameter = []\n",
    "export_request.parameter.append(parameters.ParametersParameter(dict(name='type', valueString='Patient')))\n",
    "export_request.parameter.append(parameters.ParametersParameter(dict(name='patient', valueString=','.join(p_id_lists[0:2]))))\n",
    "# Send the export request\n",
    "response = export_request.perform(smart.server, '_export')\n",
    "# Check if the request was successful\n",
    "if response.status_code == 200:\n",
    "    # Process the response\n",
    "    bundle = response.resource\n",
    "    # Print the bundle\n",
    "    print(bundle.as_json())\n",
    "else:\n",
    "    print(f'Failed to retrieve resources. Status code: {response.status_code}')\n"
   ]
  },
  {
   "cell_type": "code",
   "execution_count": 89,
   "metadata": {},
   "outputs": [],
   "source": [
    "import requests\n",
    "# FHIR server base URL\n",
    "\n",
    "# Patient IDs for which you want to retrieve resources\n",
    "patient_ids = ['12345', '67890']\n",
    "\n",
    "# Construct the search query\n",
    "kickoff_request_headers = {\n",
    "    'Prefer': 'respond-async',\n",
    "    'Accept': 'application/fhir+json',\n",
    "}\n",
    "kickoff_request_params = {'_type': 'Observation'}\n",
    "kickoff_request_url = f'{settings[\"api_base\"]}/Patient/$export'\n",
    "\n",
    "# Perform the export request\n",
    "response = requests.get(kickoff_request_url, params=kickoff_request_params, headers=kickoff_request_headers)\n"
   ]
  },
  {
   "cell_type": "code",
   "execution_count": 178,
   "metadata": {},
   "outputs": [
    {
     "name": "stdout",
     "output_type": "stream",
     "text": [
      "Total count: 3503\n",
      "Number of total resources: 1475\n"
     ]
    }
   ],
   "source": [
    "# search everything related to a patient.\n",
    "# Note that in order to avoid overwhelming the client and server, the results of this operation are paged. \n",
    "# When this operation is used to access multiple patient records at once, the return bundle could be rather a lot of data; servers may choose to require that such requests are made asynchronously\n",
    "# get total count\n",
    "count = 0\n",
    "p_id = p_id_lists[3]\n",
    "patient_centered_url = f'{settings[\"api_base\"]}/Patient/{p_id}/$everything?_count={count}'\n",
    "response = requests.get(patient_centered_url)\n",
    "response_json = response.json()\n",
    "total_count = response_json['total']\n",
    "print(f'Total count: {total_count}')\n",
    "# Somehow the pagination does not work. Use the total count to get all resources\n",
    "# if the count is 100, then it will work for 200 link, for the next link it will return error\n",
    "# if count is 1, it will fail at 251.\n",
    "# if count is 10, it will fail at 250.\n",
    "# if count is 1000, it will fail at 501.\n",
    "if total_count >= 100000:\n",
    "    total_count = 100000\n",
    "    print(f'results too large. Only return first {count} resources')\n",
    "patient_centered_url = f'{settings[\"api_base\"]}/Patient/{p_id_lists[1]}/$everything?_count={total_count}'\n",
    "response = requests.get(patient_centered_url)\n",
    "response_json = response.json()\n",
    "print(f'Number of total resources: {len(response_json[\"entry\"])}')\n",
    "# the entry number is different (smaller than) from the total count.\n",
    "# for example, in pat-232. 1474 entries (when count=0), but the total is 738.\n",
    "# actually if go to next link, it report total is 1475.\n",
    "# in pat-106, 1475 entries, but the total is 6419.\n",
    "# in pat-269, 1023 entries, but the total is 2044\n",
    "import json\n",
    "json.dump(response_json, open(f'../../data/processed/v0/{p_id}_everything_{len(response_json[\"entry\"])}.json', 'w'), indent=2)"
   ]
  },
  {
   "cell_type": "code",
   "execution_count": 184,
   "metadata": {},
   "outputs": [
    {
     "name": "stdout",
     "output_type": "stream",
     "text": [
      "Number of total resources: 3504\n"
     ]
    }
   ],
   "source": [
    "count=10000\n",
    "p_id = p_id_lists[3]\n",
    "patient_centered_url = f'{settings[\"api_base\"]}/Patient/{p_id}/$everything?_count={count}'\n",
    "all_resources = []\n",
    "while True:\n",
    "    response = requests.get(patient_centered_url)\n",
    "    if response.status_code == 200:\n",
    "        not_break = False\n",
    "        resources = response.json()\n",
    "        if 'entry' in resources:\n",
    "            all_resources.extend(resources['entry'])\n",
    "        if 'link' in resources:\n",
    "            for link in resources['link']:\n",
    "                # get next page\n",
    "                if link['relation'] == 'next':\n",
    "                    patient_centered_url = link['url']\n",
    "                    print(f'Next page: {patient_centered_url}')\n",
    "                    not_break = True\n",
    "        if not not_break:\n",
    "            break\n",
    "    else:\n",
    "        print(f'Failed. Status code: {response.status_code}')\n",
    "        break\n",
    "print(f'Number of total resources: {len(all_resources)}')\n",
    "import json\n",
    "json.dump(all_resources, open(f'../../data/processed/v0/{p_id}_everything_page_{len(all_resources)}.json', 'w'), indent=2)"
   ]
  },
  {
   "cell_type": "code",
   "execution_count": null,
   "metadata": {},
   "outputs": [],
   "source": []
  },
  {
   "cell_type": "markdown",
   "metadata": {},
   "source": [
    "### A pattern can be found.\n",
    "- if count = 0, the total number entries in the summary page is less than the actually total.\n",
    "- if use the total count in the summary page, the actual entries returned is less than total.\n",
    "- use pagination approach, it will fail at 200, 250, 251, 501, for count = 1, 10, 100, 1000\n",
    "- Based on testing, it seems like it is to go for count = 10000."
   ]
  },
  {
   "cell_type": "markdown",
   "metadata": {},
   "source": []
  },
  {
   "cell_type": "markdown",
   "metadata": {},
   "source": []
  }
 ],
 "metadata": {
  "kernelspec": {
   "display_name": ".venv",
   "language": "python",
   "name": "python3"
  },
  "language_info": {
   "codemirror_mode": {
    "name": "ipython",
    "version": 3
   },
   "file_extension": ".py",
   "mimetype": "text/x-python",
   "name": "python",
   "nbconvert_exporter": "python",
   "pygments_lexer": "ipython3",
   "version": "3.11.4"
  }
 },
 "nbformat": 4,
 "nbformat_minor": 2
}
